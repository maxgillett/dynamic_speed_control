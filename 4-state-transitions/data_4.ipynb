{
 "cells": [
  {
   "cell_type": "code",
   "execution_count": 1,
   "metadata": {},
   "outputs": [],
   "source": [
    "%load_ext autoreload\n",
    "%autoreload 2"
   ]
  },
  {
   "cell_type": "code",
   "execution_count": 2,
   "metadata": {},
   "outputs": [],
   "source": [
    "import sys\n",
    "sys.path.insert(0, '../scripts')\n",
    "from simulation import *"
   ]
  },
  {
   "cell_type": "code",
   "execution_count": 59,
   "metadata": {},
   "outputs": [],
   "source": [
    "N = 80000\n",
    "p = 0.005\n",
    "K = N*p\n",
    "P = 16\n",
    "tau = 0.01\n",
    "dt = 1e-3\n",
    "A = 20\n",
    "theta = 0.07\n",
    "sigma = 0.05\n",
    "x_f = 1.5\n",
    "q_f = 0.8"
   ]
  },
  {
   "cell_type": "code",
   "execution_count": 60,
   "metadata": {},
   "outputs": [],
   "source": [
    "patterns = np.random.RandomState(seed=1).normal(0,1,size=(P,N))"
   ]
  },
  {
   "cell_type": "code",
   "execution_count": 35,
   "metadata": {},
   "outputs": [
    {
     "name": "stderr",
     "output_type": "stream",
     "text": [
      "100%|██████████| 80000/80000 [01:51<00:00, 716.87it/s]\n"
     ]
    }
   ],
   "source": [
    "# Structural connectivity\n",
    "k = np.random.RandomState(seed=2).binomial(N, p, size=N)\n",
    "ji = build_ji(k, N)"
   ]
  },
  {
   "cell_type": "code",
   "execution_count": 36,
   "metadata": {},
   "outputs": [
    {
     "name": "stderr",
     "output_type": "stream",
     "text": [
      "100%|██████████| 80000/80000 [00:07<00:00, 10384.51it/s]\n",
      "100%|██████████| 80000/80000 [00:07<00:00, 11129.41it/s]\n"
     ]
    }
   ],
   "source": [
    "# Store pattern associations using the threshold plasticity rule\n",
    "plasticity = ThresholdPlasticityRule(x_f, q_f)\n",
    "indptr, indices, data_p0 = store_associations(\n",
    "    patterns, plasticity.f, plasticity.g, ji, K, p=0)\n",
    "_, _, data_p1 = store_associations(\n",
    "    patterns, plasticity.f, plasticity.g, ji, K, p=1)"
   ]
  },
  {
   "cell_type": "code",
   "execution_count": 61,
   "metadata": {},
   "outputs": [
    {
     "name": "stderr",
     "output_type": "stream",
     "text": [
      "80000it [00:00, 140170.43it/s]\n",
      "80000it [00:00, 137146.97it/s]\n"
     ]
    }
   ],
   "source": [
    "# Adjust subpopulation weights\n",
    "data_p1_copy = np.asarray(data_p1).copy()\n",
    "data_p0_copy = np.asarray(data_p0).copy()\n",
    "reweight(indptr, indices, data_p1_copy, # Asymmetric\n",
    "         A, N, w_11=1, w_12=1, w_21=0, w_22=0)\n",
    "reweight(indptr, indices, data_p0_copy, # Symmetric\n",
    "         A, N, w_11=0, w_12=0, w_21=1, w_22=1)\n",
    "data = data_p1_copy + data_p0_copy\n",
    "W = cp.sparse.csr_matrix(\n",
    "    (cp.asarray(data), cp.asarray(indices), cp.asarray(indptr)),\n",
    "    shape=(N,N),\n",
    "    dtype=cp.float32)"
   ]
  },
  {
   "cell_type": "code",
   "execution_count": 62,
   "metadata": {},
   "outputs": [],
   "source": [
    "def run_simulation(\n",
    "    I_ext_1,\n",
    "    I_ext_2,\n",
    "    T_transient = 0.01,\n",
    "    T_preparatory = 0.2):\n",
    "    \n",
    "    \n",
    "    N_1 = N_2 = int(N/2)\n",
    "    \n",
    "    # Sustained inputs\n",
    "    def xi_sustained(t):\n",
    "        if t < 0.2:\n",
    "            xi_t_1 = cp.full(N_1, fill_value=-0.8) # Asymmetric input\n",
    "            if t > 0.01:\n",
    "                xi_t_2 = cp.full(N_2, fill_value=0) # Symmetric input\n",
    "            else:\n",
    "                xi_t_2 = cp.full(N_2, fill_value=0) # Symmetric input\n",
    "        else:\n",
    "            xi_t_1 = cp.full(N_1, fill_value=I_ext_1)\n",
    "            xi_t_2 = cp.full(N_2, fill_value=I_ext_2)\n",
    "        return cp.r_[xi_t_1 , xi_t_2]\n",
    "    \n",
    "    # Transient inputs\n",
    "    def xi_transient(t):\n",
    "        if t < 0.01:\n",
    "            xi_t_1 = cp.full(N_1, fill_value=0)\n",
    "            xi_t_2 = patterns[0,int(N/2):]\n",
    "            return cp.r_[xi_t_1 , xi_t_2]\n",
    "        else:\n",
    "            return 0\n",
    "        \n",
    "    def xi_t(t):\n",
    "        return xi_sustained(t) + xi_transient(t)\n",
    "    \n",
    "    r = simulate(\n",
    "        T=0.8,\n",
    "        dt=dt,\n",
    "        tau=tau,\n",
    "        N=N,\n",
    "        I_ext_1=None,\n",
    "        I_ext_2=None,\n",
    "        I_ext=xi_t,\n",
    "        theta=theta,\n",
    "        sigma=sigma,\n",
    "        patterns=patterns,\n",
    "        r0=phi(cp.zeros(N), theta, sigma),\n",
    "        W=W)\n",
    "    \n",
    "    _, q1, q2 = correlations(r, patterns, individual=True)\n",
    "    \n",
    "    return {\n",
    "        'r': r.astype(np.float16),\n",
    "        \n",
    "        'q1': q1,\n",
    "        'q2': q2,\n",
    "        \n",
    "        'params': {\n",
    "            \"N\": N,\n",
    "            \"p\": p,\n",
    "            \"K\": K,\n",
    "            \"P\": P,\n",
    "            \"A\": A,\n",
    "            \"tau\": tau,\n",
    "            \"theta\": theta,\n",
    "            \"sigma\": sigma,\n",
    "            \"x_f\": plasticity.x_f,\n",
    "            \"q_f\": plasticity.q_f,\n",
    "            \"x_g\": plasticity.x_g,\n",
    "            \"q_g\": plasticity.q_g,\n",
    "            'I_ext_1': I_ext_1,\n",
    "            'I_ext_2': I_ext_2,\n",
    "        }\n",
    "    }"
   ]
  },
  {
   "cell_type": "code",
   "execution_count": 63,
   "metadata": {},
   "outputs": [],
   "source": [
    "directory = \"4-state-transitions/data\""
   ]
  },
  {
   "cell_type": "markdown",
   "metadata": {
    "tags": []
   },
   "source": [
    "#### Short interval"
   ]
  },
  {
   "cell_type": "code",
   "execution_count": 64,
   "metadata": {},
   "outputs": [
    {
     "name": "stderr",
     "output_type": "stream",
     "text": [
      "100%|██████████| 799/799 [00:01<00:00, 460.94it/s]\n"
     ]
    }
   ],
   "source": [
    "data = run_simulation(I_ext_1=-.04, I_ext_2=-.2)\n",
    "filepath = directory + \"short_interval.npy\"\n",
    "np.save(open(filepath, 'wb'), data)"
   ]
  },
  {
   "cell_type": "markdown",
   "metadata": {},
   "source": [
    "#### Long interval"
   ]
  },
  {
   "cell_type": "code",
   "execution_count": 65,
   "metadata": {},
   "outputs": [
    {
     "name": "stderr",
     "output_type": "stream",
     "text": [
      "100%|██████████| 799/799 [00:01<00:00, 457.19it/s]\n"
     ]
    }
   ],
   "source": [
    "data = run_simulation(I_ext_1=-.30, I_ext_2=-.05)\n",
    "filepath = directory + \"long_interval.npy\"\n",
    "np.save(open(filepath, 'wb'), data)"
   ]
  }
 ],
 "metadata": {
  "kernelspec": {
   "display_name": "Python 3",
   "language": "python",
   "name": "python3"
  },
  "language_info": {
   "codemirror_mode": {
    "name": "ipython",
    "version": 3
   },
   "file_extension": ".py",
   "mimetype": "text/x-python",
   "name": "python",
   "nbconvert_exporter": "python",
   "pygments_lexer": "ipython3",
   "version": "3.7.6"
  }
 },
 "nbformat": 4,
 "nbformat_minor": 4
}
