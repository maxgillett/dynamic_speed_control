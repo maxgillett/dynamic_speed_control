{
 "cells": [
  {
   "cell_type": "code",
   "execution_count": 1,
   "id": "5a185cd0-245f-4bd8-a1e4-b0b5cdbf07c5",
   "metadata": {},
   "outputs": [],
   "source": [
    "%load_ext autoreload\n",
    "%autoreload 2"
   ]
  },
  {
   "cell_type": "code",
   "execution_count": 3,
   "id": "93435b25-356e-4de0-a2e9-89aa528ba2fb",
   "metadata": {},
   "outputs": [],
   "source": [
    "import sys\n",
    "sys.path.insert(0, '../scripts')\n",
    "from simulation import *"
   ]
  },
  {
   "cell_type": "code",
   "execution_count": 15,
   "id": "29844e12-9ea6-42cb-b844-1ace245a785f",
   "metadata": {},
   "outputs": [],
   "source": [
    "N = 80000\n",
    "p = 0.005\n",
    "K = N*p\n",
    "P = 16\n",
    "tau = 0.01\n",
    "dt = 1e-3\n",
    "A = 1 #2\n",
    "theta = 0\n",
    "sigma = 0.1"
   ]
  },
  {
   "cell_type": "code",
   "execution_count": 5,
   "id": "185b351b-450a-47fd-bcd2-5727182c0cc2",
   "metadata": {},
   "outputs": [],
   "source": [
    "patterns = np.random.RandomState(seed=1).normal(0,1,size=(P,N))"
   ]
  },
  {
   "cell_type": "code",
   "execution_count": 6,
   "id": "0665de83-51b3-4d91-9ed6-c75560c97a29",
   "metadata": {},
   "outputs": [
    {
     "name": "stderr",
     "output_type": "stream",
     "text": [
      "100%|██████████| 80000/80000 [01:48<00:00, 740.45it/s]\n"
     ]
    }
   ],
   "source": [
    "# Structural connectivity\n",
    "k = np.random.RandomState(seed=2).binomial(N, p, size=N)\n",
    "ji = build_ji(k, N)"
   ]
  },
  {
   "cell_type": "code",
   "execution_count": 32,
   "id": "66a0e570-cf59-4c6d-95be-05e5324e4eeb",
   "metadata": {},
   "outputs": [
    {
     "name": "stderr",
     "output_type": "stream",
     "text": [
      "100%|██████████| 80000/80000 [00:06<00:00, 13248.52it/s]\n",
      "100%|██████████| 80000/80000 [00:05<00:00, 13470.87it/s]\n"
     ]
    }
   ],
   "source": [
    "# Store pattern associations using the threshold plasticity rule\n",
    "plasticity = BilinearPlasticityRule()\n",
    "indptr, indices, data_p0 = store_associations(\n",
    "    patterns, plasticity.f, plasticity.g, ji, K, p=0)\n",
    "_, _, data_p1 = store_associations(\n",
    "    patterns, plasticity.f, plasticity.g, ji, K, p=1)"
   ]
  },
  {
   "cell_type": "code",
   "execution_count": 61,
   "id": "85402de4-3a41-4d5c-8841-78654425a0bd",
   "metadata": {},
   "outputs": [
    {
     "name": "stderr",
     "output_type": "stream",
     "text": [
      "80000it [00:00, 116180.88it/s]\n",
      "80000it [00:00, 117538.62it/s]\n",
      "100%|██████████| 999/999 [00:02<00:00, 401.55it/s]\n",
      "80000it [00:00, 118931.38it/s]\n",
      "80000it [00:00, 117557.61it/s]\n",
      "100%|██████████| 999/999 [00:02<00:00, 401.99it/s]\n",
      "80000it [00:00, 119669.25it/s]\n",
      "80000it [00:00, 119281.41it/s]\n",
      "100%|██████████| 999/999 [00:02<00:00, 401.33it/s]\n",
      "80000it [00:00, 116233.68it/s]\n",
      "80000it [00:00, 113919.08it/s]\n",
      "100%|██████████| 999/999 [00:02<00:00, 402.80it/s]\n",
      "80000it [00:00, 117067.44it/s]\n",
      "80000it [00:00, 117303.54it/s]\n",
      "100%|██████████| 999/999 [00:02<00:00, 401.61it/s]\n",
      "80000it [00:00, 117543.27it/s]\n",
      "80000it [00:00, 119206.61it/s]\n",
      "100%|██████████| 999/999 [00:02<00:00, 401.34it/s]\n",
      "80000it [00:00, 118969.42it/s]\n",
      "80000it [00:00, 117107.24it/s]\n",
      "100%|██████████| 999/999 [00:02<00:00, 400.99it/s]\n",
      "80000it [00:00, 119500.10it/s]\n",
      "80000it [00:00, 117231.25it/s]\n",
      "100%|██████████| 999/999 [00:02<00:00, 401.55it/s]\n",
      "80000it [00:00, 118081.68it/s]\n",
      "80000it [00:00, 119540.07it/s]\n",
      "100%|██████████| 999/999 [00:02<00:00, 402.35it/s]\n",
      "80000it [00:00, 118879.89it/s]\n",
      "80000it [00:00, 114659.68it/s]\n",
      "100%|██████████| 999/999 [00:02<00:00, 399.82it/s]\n"
     ]
    }
   ],
   "source": [
    "z = np.linspace(0,1,11)[:-1]\n",
    "q_ext = []\n",
    "\n",
    "for z_ in z:\n",
    "    data_p1_copy = np.asarray(data_p1).copy()\n",
    "    data_p0_copy = np.asarray(data_p0).copy()\n",
    "    reweight(indptr, indices, data_p1_copy, \n",
    "             A, N, w_11=(1-z_), w_12=(1-z_), w_21=(1-z_), w_22=(1-z_))\n",
    "    reweight(indptr, indices, data_p0_copy,\n",
    "             A, N, w_11=z_, w_12=z_, w_21=z_, w_22=z_)\n",
    "    data = data_p1_copy + data_p0_copy\n",
    "    W = cp.sparse.csr_matrix(\n",
    "        (cp.asarray(data), cp.asarray(indices), cp.asarray(indptr)),\n",
    "        shape=(N,N),\n",
    "        dtype=cp.float32)\n",
    "    \n",
    "    r = simulate(\n",
    "        T=1.,\n",
    "        dt=1e-3,\n",
    "        tau=0.01,\n",
    "        N=N,\n",
    "        I_ext_1=0,\n",
    "        I_ext_2=0,\n",
    "        theta=theta,\n",
    "        sigma=sigma,\n",
    "        patterns=patterns,\n",
    "        W=W)\n",
    "    q, _, _ = correlations(r, patterns, individual=False)\n",
    "    q_ext.append(q)"
   ]
  },
  {
   "cell_type": "code",
   "execution_count": 79,
   "id": "28cbbdad-2064-41f1-89c7-fcd355ac19fd",
   "metadata": {},
   "outputs": [],
   "source": [
    "def speed(q):\n",
    "    try:\n",
    "        idxs = q[:,:].argmax(axis=1)\n",
    "        diffs = np.diff(idxs)\n",
    "        diffs = diffs[np.logical_and(\n",
    "            np.logical_and(\n",
    "                diffs < diffs.mean()+2*diffs.std(),\n",
    "                diffs > diffs.mean()-2*diffs.std()),\n",
    "            diffs > 0)]\n",
    "        return np.mean(diffs)\n",
    "    except:\n",
    "        return np.NaN"
   ]
  },
  {
   "cell_type": "code",
   "execution_count": 105,
   "id": "bf1f46e4-3d1f-4430-86a5-11f40deea5e6",
   "metadata": {},
   "outputs": [
    {
     "data": {
      "image/png": "[encoded data removed]",
      "text/plain": [
       "<Figure size 120x180 with 1 Axes>"
      ]
     },
     "metadata": {
      "needs_background": "light"
     },
     "output_type": "display_data"
    }
   ],
   "source": [
    "plt.figure(figsize=(1,1.5), dpi=120)\n",
    "tau = 10\n",
    "plt.scatter(z, tau/np.asarray([speed(q_ext[i]) for i in np.arange(z.size)]), s=5, color='black');\n",
    "plt.plot(z, tau/(tau/(1-z)), linestyle='solid', color='grey')\n",
    "plt.xticks([0,0.5,1]);\n",
    "plt.ylabel(r\"Relative speed ($1/\\tau$)\")\n",
    "plt.xlabel(\"Temporal symmetry (z)\")\n",
    "plt.savefig(\"1c.pdf\", dpi=150, bbox_inches='tight')"
   ]
  }
 ],
 "metadata": {
  "kernelspec": {
   "display_name": "Python 3",
   "language": "python",
   "name": "python3"
  },
  "language_info": {
   "codemirror_mode": {
    "name": "ipython",
    "version": 3
   },
   "file_extension": ".py",
   "mimetype": "text/x-python",
   "name": "python",
   "nbconvert_exporter": "python",
   "pygments_lexer": "ipython3",
   "version": "3.7.6"
  }
 },
 "nbformat": 4,
 "nbformat_minor": 5
}
