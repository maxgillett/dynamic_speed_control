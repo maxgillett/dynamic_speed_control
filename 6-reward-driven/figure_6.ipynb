{
 "cells": [
  {
   "cell_type": "code",
   "execution_count": 1,
   "metadata": {},
   "outputs": [],
   "source": [
    "%load_ext autoreload\n",
    "%autoreload 2"
   ]
  },
  {
   "cell_type": "code",
   "execution_count": 22,
   "metadata": {},
   "outputs": [],
   "source": [
    "import sys\n",
    "import copy\n",
    "import time\n",
    "import logging\n",
    "import argparse\n",
    "import itertools\n",
    "import matplotlib\n",
    "import matplotlib.pyplot as plt\n",
    "from mpl_toolkits.axes_grid1 import make_axes_locatable\n",
    "from matplotlib import colors\n",
    "from tqdm.auto import tqdm\n",
    "\n",
    "import numpy as np\n",
    "import ray\n",
    "\n",
    "sys.path.insert(0, '../network')\n",
    "from measures import DataStore"
   ]
  },
  {
   "cell_type": "code",
   "execution_count": 23,
   "metadata": {},
   "outputs": [],
   "source": [
    "def slice_data(ds, output, keys, raise_on_error=False):\n",
    "    for idxs, vals in zip(\n",
    "        itertools.product(*[range(len(ds.keyvals[key])) for key in keys]),\n",
    "        itertools.product(*[ds.keyvals[key] for key in keys])):\n",
    "        try:\n",
    "            output[idxs] = ds.data[vals]\n",
    "        except:\n",
    "            if raise_on_error:\n",
    "                raise StandardError"
   ]
  },
  {
   "cell_type": "markdown",
   "metadata": {},
   "source": [
    "#### Load retrieval speed phase diagram"
   ]
  },
  {
   "cell_type": "code",
   "execution_count": 24,
   "metadata": {},
   "outputs": [],
   "source": [
    "@np.vectorize\n",
    "def quality(val, combined=False, correlation=True):\n",
    "    try:\n",
    "        return val['q'][-1,:400].max()\n",
    "    except:\n",
    "        return np.NaN\n",
    "\n",
    "@np.vectorize\n",
    "def speed(val):\n",
    "    try:\n",
    "        q = val['q'][:,:400]\n",
    "        idxs = q.argmax(axis=1)\n",
    "        diffs = np.diff(idxs)\n",
    "        diffs = diffs[np.logical_and(\n",
    "            np.logical_and(\n",
    "                diffs < diffs.mean()+2*diffs.std(),\n",
    "                diffs > diffs.mean()-2*diffs.std()),\n",
    "            diffs > 0)]\n",
    "        return np.mean(diffs)\n",
    "    except:\n",
    "        return np.NaN"
   ]
  },
  {
   "cell_type": "code",
   "execution_count": 25,
   "metadata": {},
   "outputs": [
    {
     "data": {
      "application/vnd.jupyter.widget-view+json": {
       "model_id": "17b6f11682f64814ba13c6fe539ea667",
       "version_major": 2,
       "version_minor": 0
      },
      "text/plain": [
       "  0%|          | 0/1089 [00:00<?, ?it/s]"
      ]
     },
     "metadata": {},
     "output_type": "display_data"
    }
   ],
   "source": [
    "directory = \"2-bilinear-phase-diagram/data/\"\n",
    "keys=['I_ext_1','I_ext_2']\n",
    "n1, n2 = 33,33 \n",
    "ds1 = DataStore(directory)\n",
    "ds1.load()\n",
    "ds1.process(keys)"
   ]
  },
  {
   "cell_type": "code",
   "execution_count": 26,
   "metadata": {},
   "outputs": [],
   "source": [
    "output = np.zeros((n1,n2), dtype=object)\n",
    "slice_data(ds1, output, keys)\n",
    "q = quality(output)\n",
    "s = speed(output)"
   ]
  },
  {
   "cell_type": "markdown",
   "metadata": {},
   "source": [
    "#### Load input trajectory trials"
   ]
  },
  {
   "cell_type": "code",
   "execution_count": 43,
   "metadata": {},
   "outputs": [],
   "source": [
    "I_ext_v1 = np.load(\"6-reward-driven/data/I_ext_v1.npy\")\n",
    "I_ext_v2 = np.load(\"6-reward-driven/data/I_ext_v2.npy\")"
   ]
  },
  {
   "cell_type": "code",
   "execution_count": 77,
   "metadata": {},
   "outputs": [],
   "source": [
    "matplotlib.rcParams['axes.linewidth'] = 2"
   ]
  },
  {
   "cell_type": "code",
   "execution_count": 99,
   "metadata": {},
   "outputs": [
    {
     "name": "stderr",
     "output_type": "stream",
     "text": [
      "/hpc/home/mhg19/miniconda3/lib/python3.7/site-packages/matplotlib/colors.py:1171: RuntimeWarning: invalid value encountered in less_equal\n",
      "  mask |= resdat <= 0\n",
      "/hpc/home/mhg19/miniconda3/lib/python3.7/site-packages/matplotlib/colors.py:1171: RuntimeWarning: invalid value encountered in less_equal\n",
      "  mask |= resdat <= 0\n"
     ]
    },
    {
     "data": {
      "image/png": "[encoded data removed]",
      "text/plain": [
       "<Figure size 360x288 with 2 Axes>"
      ]
     },
     "metadata": {
      "needs_background": "light"
     },
     "output_type": "display_data"
    }
   ],
   "source": [
    "def plot(q, s, ds, I_ext_v1, I_ext_v2, tau=10):\n",
    "    fig, ax = plt.subplots(1, 1, figsize=(5, 4))\n",
    "    \n",
    "    # Speed\n",
    "    q[np.isnan(q)] = 0\n",
    "    s[q < 0.05] = np.NaN\n",
    "    cmap = copy.copy(matplotlib.cm.get_cmap(\"rainbow_r\"))\n",
    "    cmap.set_bad(color='black')\n",
    "    s = tau/s\n",
    "    im2 = ax.imshow(s, cmap=cmap, vmin=0.20, vmax=1, \n",
    "                       norm=colors.LogNorm(vmin=s.min(), vmax=s.max()))\n",
    "    ax.set_xticks(np.linspace(0, n1, 6) - 0.5)\n",
    "    ax.set_yticks(np.linspace(0, n2, 6) - 0.5)\n",
    "    ax.set_xticklabels([-1, -0.8, -0.6, -0.4, -0.2, 0], fontsize=14)\n",
    "    ax.set_yticklabels([-1, -0.8, -0.6, -0.4, -0.2, 0], fontsize=14)\n",
    "    ax.set_xlim([-0.5, s.shape[0] - 0.5]);\n",
    "    ax.set_ylim([-0.5, s.shape[1] - 0.5]);\n",
    "    ax.set_xlabel(r\"$I^{ext}_s$\", fontsize=18, labelpad=10)\n",
    "    ax.set_ylabel(r\"$I^{ext}_a$\", fontsize=18, labelpad=10)\n",
    "    divider = make_axes_locatable(ax)\n",
    "    cax = divider.append_axes('right', size='5%', pad=0.15)\n",
    "    cb = fig.colorbar(im2, cax=cax, ticks=[0.2, 0.3, 0.4, 0.6, 1]);\n",
    "    cb.set_label(r\"Relative speed ($1/\\tau$)\", labelpad=10, fontsize=14)\n",
    "    cb.ax.set_yticklabels([0.2, 0.3, 0.4, 0.6, 1])\n",
    "    ax.tick_params(width=2, length=4)\n",
    "    cb.ax.tick_params(width=2, length=4, labelsize=14)\n",
    "    \n",
    "    # Plot trials\n",
    "    for I_ext, alpha in zip([I_ext_v1, I_ext_v2], [0.45, 0.75]):\n",
    "        ax.scatter(\n",
    "            n1 - I_ext[0][0] * -n1,\n",
    "            n2 - I_ext[1][0] * -n2,\n",
    "            s=95,\n",
    "            color='white',\n",
    "            marker='o',\n",
    "            edgecolors='k',\n",
    "            linewidth=2,\n",
    "            alpha=1,\n",
    "            zorder=3)\n",
    "        \n",
    "        ax.plot(\n",
    "            n1 - I_ext[0] * -n1,\n",
    "            n2 - I_ext[1] * -n2,\n",
    "            color='k',\n",
    "            linewidth=2,\n",
    "            alpha=alpha)\n",
    "        ax.scatter(\n",
    "            n1 - I_ext[0][-1] * -n1,\n",
    "            n2 - I_ext[1][-1] * -n2,\n",
    "            s=95,\n",
    "            color='k',\n",
    "            marker='X',\n",
    "            edgecolors='none',\n",
    "            linewidth=2,\n",
    "            alpha=alpha)\n",
    "        \n",
    "    plt.subplots_adjust(wspace=0.6)\n",
    "    return fig, ax\n",
    "\n",
    "fig, ax = plot(q, s, ds1, I_ext_v1, I_ext_v2)\n",
    "fig.savefig(\"6.pdf\", dpi=150, bbox_inches='tight')"
   ]
  }
 ],
 "metadata": {
  "kernelspec": {
   "display_name": "Python 3",
   "language": "python",
   "name": "python3"
  },
  "language_info": {
   "codemirror_mode": {
    "name": "ipython",
    "version": 3
   },
   "file_extension": ".py",
   "mimetype": "text/x-python",
   "name": "python",
   "nbconvert_exporter": "python",
   "pygments_lexer": "ipython3",
   "version": "3.7.6"
  }
 },
 "nbformat": 4,
 "nbformat_minor": 4
}
