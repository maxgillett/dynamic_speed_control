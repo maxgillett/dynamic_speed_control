{
 "cells": [
  {
   "cell_type": "code",
   "execution_count": 3,
   "metadata": {},
   "outputs": [
    {
     "name": "stdout",
     "output_type": "stream",
     "text": [
      "The autoreload extension is already loaded. To reload it, use:\n",
      "  %reload_ext autoreload\n"
     ]
    }
   ],
   "source": [
    "%load_ext autoreload\n",
    "%autoreload 2"
   ]
  },
  {
   "cell_type": "code",
   "execution_count": 4,
   "metadata": {},
   "outputs": [],
   "source": [
    "import sys\n",
    "sys.path.insert(0, '../scripts')\n",
    "from simulation import *"
   ]
  },
  {
   "cell_type": "code",
   "execution_count": 12,
   "metadata": {},
   "outputs": [],
   "source": [
    "P = 16\n",
    "N = 80000\n",
    "x_f = 1.5\n",
    "q_f = 0.8\n",
    "theta = 0\n",
    "sigma = 0.05\n",
    "tau = 1e-2\n",
    "dt = 1e-3\n",
    "p = 0.005\n",
    "K = N*c\n",
    "A = 10"
   ]
  },
  {
   "cell_type": "code",
   "execution_count": 13,
   "metadata": {},
   "outputs": [],
   "source": [
    "patterns = np.random.RandomState(seed=1).normal(0,1,size=(P,N))"
   ]
  },
  {
   "cell_type": "code",
   "execution_count": 14,
   "metadata": {},
   "outputs": [
    {
     "name": "stderr",
     "output_type": "stream",
     "text": [
      "100%|██████████| 80000/80000 [01:51<00:00, 717.28it/s]\n"
     ]
    }
   ],
   "source": [
    "# Structural connectivity\n",
    "k = np.random.RandomState(seed=2).binomial(N, p, size=N)\n",
    "ji = build_ji(k, N)"
   ]
  },
  {
   "cell_type": "code",
   "execution_count": 15,
   "metadata": {},
   "outputs": [],
   "source": [
    "# Uniform learning rule distribution: symmetric <--> asymmetric\n",
    "mask_sym = np.random.RandomState(seed=12).rand(N)\n",
    "mask_asym = 1 - mask_sym"
   ]
  },
  {
   "cell_type": "code",
   "execution_count": 18,
   "metadata": {},
   "outputs": [
    {
     "name": "stderr",
     "output_type": "stream",
     "text": [
      "100%|██████████| 80000/80000 [00:08<00:00, 9824.81it/s] \n",
      "100%|██████████| 80000/80000 [00:07<00:00, 11174.81it/s]\n"
     ]
    }
   ],
   "source": [
    "# Store pattern associations using the threshold plasticity rule\n",
    "plasticity = ThresholdPlasticityRule(x_f, q_f)\n",
    "indptr, indices, data_p0 = store_associations(\n",
    "    patterns, plasticity.f, plasticity.g, ji, K, p=0,\n",
    "    mask=mask_sym)\n",
    "_, _, data_p1 = store_associations(\n",
    "    patterns, plasticity.f, plasticity.g, ji, K, p=1,\n",
    "    mask=mask_asym)"
   ]
  },
  {
   "cell_type": "code",
   "execution_count": 19,
   "metadata": {},
   "outputs": [
    {
     "name": "stderr",
     "output_type": "stream",
     "text": [
      "80000it [00:00, 145136.02it/s]\n",
      "80000it [00:00, 123170.06it/s]\n"
     ]
    }
   ],
   "source": [
    "# Adjust subpopulation weights\n",
    "data_p1_copy = np.asarray(data_p1).copy()\n",
    "data_p0_copy = np.asarray(data_p0).copy()\n",
    "reweight(indptr, indices, data_p1_copy, # Asymmetric\n",
    "         A, N, w_11=1, w_12=1, w_21=1, w_22=1)\n",
    "reweight(indptr, indices, data_p0_copy, # Symmetric\n",
    "         A, N, w_11=1, w_12=1, w_21=1, w_22=1)\n",
    "data = data_p1_copy + data_p0_copy\n",
    "W = cp.sparse.csr_matrix(\n",
    "    (cp.asarray(data), cp.asarray(indices), cp.asarray(indptr)),\n",
    "    shape=(N,N),\n",
    "    dtype=cp.float32)"
   ]
  },
  {
   "cell_type": "code",
   "execution_count": null,
   "metadata": {},
   "outputs": [
    {
     "name": "stderr",
     "output_type": "stream",
     "text": [
      "100%|██████████| 961/961 [4:07:29<00:00, 15.46s/it]  "
     ]
    }
   ],
   "source": [
    "I_ext_1 = np.linspace(-0.5, 0, 31)\n",
    "I_ext_2 = np.linspace(-0.25, 0.25, 31)\n",
    "\n",
    "params = {\n",
    "    \"N\": N,\n",
    "    \"p\": p,\n",
    "    \"K\": K,\n",
    "    \"P\": P,\n",
    "    \"A\": A,\n",
    "    \"tau\": tau,\n",
    "    \"theta\": theta,\n",
    "    \"sigma\": sigma,\n",
    "    \"x_f\": plasticity.x_f,\n",
    "    \"q_f\": plasticity.q_f,\n",
    "    \"x_g\": plasticity.x_g,\n",
    "    \"q_g\": plasticity.q_g,\n",
    "}\n",
    "\n",
    "combinations = list(itertools.product(\n",
    "    np.atleast_1d(I_ext_1),\n",
    "    np.atleast_1d(I_ext_2)))\n",
    "\n",
    "directory = \"5-bilinear-continuum/data/\"\n",
    "\n",
    "try:\n",
    "    os.makedirs(directory)\n",
    "except FileExistsError:\n",
    "    pass\n",
    "\n",
    "for args in tqdm(combinations[:]):\n",
    "    params[\"I_ext_1\"] = I_ext_1 = args[0]\n",
    "    params[\"I_ext_2\"] = I_ext_2 = args[1]\n",
    "    \n",
    "    def xi_t(t):\n",
    "        xi = cp.zeros(N)\n",
    "        xi += I_ext_1 * cp.asarray(mask_asym)\n",
    "        xi += I_ext_2 * cp.asarray(mask_sym)\n",
    "        return xi\n",
    "    \n",
    "    r = simulate(\n",
    "        2.0,  # T\n",
    "        dt, # dt\n",
    "        tau, # tau\n",
    "        N=N,\n",
    "        I_ext_1=None,\n",
    "        I_ext_2=None,\n",
    "        I_ext=xi_t,\n",
    "        theta=theta,\n",
    "        sigma=sigma,\n",
    "        patterns=patterns,\n",
    "        r0=phi(cp.asarray(patterns[0,:]), theta, sigma),\n",
    "        W=W,\n",
    "        disable_pbar=True)\n",
    "    q, _, _ = correlations(r, patterns, individual=False)\n",
    "    filename = \"Iext1%.6f_Iext2%.6f\"%(I_ext_1,I_ext_2) + \".npy\"\n",
    "    filepath = directory + filename\n",
    "    np.save(open(filepath, 'wb'), {\n",
    "        \"q\": q,\n",
    "        \"r\": r[:100,:].astype(np.float16),\n",
    "        \"params\": params})"
   ]
  }
 ],
 "metadata": {
  "kernelspec": {
   "display_name": "Python 3",
   "language": "python",
   "name": "python3"
  },
  "language_info": {
   "codemirror_mode": {
    "name": "ipython",
    "version": 3
   },
   "file_extension": ".py",
   "mimetype": "text/x-python",
   "name": "python",
   "nbconvert_exporter": "python",
   "pygments_lexer": "ipython3",
   "version": "3.7.6"
  }
 },
 "nbformat": 4,
 "nbformat_minor": 4
}
